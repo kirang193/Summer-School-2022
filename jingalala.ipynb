{
  "nbformat": 4,
  "nbformat_minor": 0,
  "metadata": {
    "colab": {
      "name": "A3-G1-21075077.ipynb",
      "provenance": [],
      "collapsed_sections": []
    },
    "kernelspec": {
      "name": "python3",
      "display_name": "Python 3"
    },
    "language_info": {
      "name": "python"
    }
  },
  "cells": [
    {
      "cell_type": "code",
      "execution_count": null,
      "metadata": {
        "colab": {
          "base_uri": "https://localhost:8080/"
        },
        "id": "MwF9bAT0CfLY",
        "outputId": "11187048-d3b3-4ffc-a311-52172a31ee2f"
      },
      "outputs": [
        {
          "output_type": "stream",
          "name": "stdout",
          "text": [
            "Overwriting test.txt\n"
          ]
        }
      ],
      "source": [
        "%%writefile test.txt\n",
        "What is Python language?\n",
        "Python is a widely used high-level, general-purpose, interpreted, dynamic programming language. Its design philosophy emphasizes code readability, and its syntax allows programmers to express concepts in fewer lines of code than possible in\n",
        "languages such as C++ or Java.\n",
        "Python   supports   multiple   programming   paradigms,   including   object-oriented,   imperative   and functional programming or procedural styles. It features a dynamic type system and automatic memory management and has a large and comprehensive standard library. The best way we learn anything is by practice and exercise questions. We have started this section for those (beginner to intermediate) who are familiar with Python."
      ]
    },
    {
      "cell_type": "code",
      "source": [
        "%%writefile file.txt\n",
        "Hi"
      ],
      "metadata": {
        "colab": {
          "base_uri": "https://localhost:8080/"
        },
        "id": "J3VMTebyaWFD",
        "outputId": "f13b19fa-33b1-48d8-9bda-96cf4f64bd84"
      },
      "execution_count": null,
      "outputs": [
        {
          "output_type": "stream",
          "name": "stdout",
          "text": [
            "Overwriting file.txt\n"
          ]
        }
      ]
    },
    {
      "cell_type": "code",
      "source": [
        "%%writefile myfile.txt\n",
        "Hello everyone !"
      ],
      "metadata": {
        "colab": {
          "base_uri": "https://localhost:8080/"
        },
        "id": "aFuBSTFiFdsO",
        "outputId": "83ddb47e-fc81-49e6-8795-55e945f40998"
      },
      "execution_count": null,
      "outputs": [
        {
          "output_type": "stream",
          "name": "stdout",
          "text": [
            "Overwriting myfile.txt\n"
          ]
        }
      ]
    },
    {
      "cell_type": "markdown",
      "source": [
        "Question:1"
      ],
      "metadata": {
        "id": "hLpZrHbq280u"
      }
    },
    {
      "cell_type": "code",
      "source": [
        "fl=input(\"The name of the file: \")\n",
        "f=open(fl,'r')\n",
        "f.read()"
      ],
      "metadata": {
        "colab": {
          "base_uri": "https://localhost:8080/",
          "height": 122
        },
        "id": "KGVkpxCT3KgV",
        "outputId": "c81cf0ec-c3a1-4629-f4d6-77ac12c66cda"
      },
      "execution_count": null,
      "outputs": [
        {
          "name": "stdout",
          "output_type": "stream",
          "text": [
            "The name of the file: test.txt\n"
          ]
        },
        {
          "output_type": "execute_result",
          "data": {
            "text/plain": [
              "'What is Python language?\\nPython is a widely used high-level, general-purpose, interpreted, dynamic programming language. Its design philosophy emphasizes code readability, and its syntax allows programmers to express concepts in fewer lines of code than possible in\\nlanguages such as C++ or Java.\\nPython   supports   multiple   programming   paradigms,   including   object-oriented,   imperative   and functional programming or procedural styles. It features a dynamic type system and automatic memory management and has a large and comprehensive standard library. The best way we learn anything is by practice and exercise questions. We have started this section for those (beginner to intermediate) who are familiar with Python.'"
            ],
            "application/vnd.google.colaboratory.intrinsic+json": {
              "type": "string"
            }
          },
          "metadata": {},
          "execution_count": 65
        }
      ]
    },
    {
      "cell_type": "markdown",
      "source": [
        "Question:2"
      ],
      "metadata": {
        "id": "aDc_CesQ3thz"
      }
    },
    {
      "cell_type": "code",
      "source": [
        "fl=input(\"The name of the file: \")\n",
        "with open(fl,'r') as f:\n",
        " n=int(input(\"Enter the number of lines to read: \"))\n",
        " for i in range(0,n):\n",
        "  print(f.readline(),end='')"
      ],
      "metadata": {
        "colab": {
          "base_uri": "https://localhost:8080/"
        },
        "id": "TixCLetW3tJk",
        "outputId": "06ef1d7d-f747-4f26-802b-b7039907020a"
      },
      "execution_count": null,
      "outputs": [
        {
          "output_type": "stream",
          "name": "stdout",
          "text": [
            "The name of the file: test.txt\n",
            "Enter the number of lines to read: 3\n",
            "What is Python language?\n",
            "Python is a widely used high-level, general-purpose, interpreted, dynamic programming language. Its design philosophy emphasizes code readability, and its syntax allows programmers to express concepts in fewer lines of code than possible in\n",
            "languages such as C++ or Java.\n"
          ]
        }
      ]
    },
    {
      "cell_type": "markdown",
      "source": [
        "Question:3"
      ],
      "metadata": {
        "id": "c2XhI34p6OVA"
      }
    },
    {
      "cell_type": "code",
      "source": [
        "fl=input(\"The name of the file: \")\n",
        "with open(fl,'a') as f:\n",
        " s=str(input(\"Enter the string to append: \"))\n",
        " f.write(\"\\n\")\n",
        " f.write(s)\n",
        "f=open(fl)\n",
        "print(f.read())\n",
        "f.close()"
      ],
      "metadata": {
        "colab": {
          "base_uri": "https://localhost:8080/"
        },
        "id": "-qEkXekg6Qo5",
        "outputId": "7511c2bf-8320-47f4-b77d-deb4f7d2c5e5"
      },
      "execution_count": null,
      "outputs": [
        {
          "output_type": "stream",
          "name": "stdout",
          "text": [
            "The name of the file: myfile.txt\n",
            "Enter the string to append: This is ITW1 class\n",
            "Hello everyone !\n",
            "This is ITW1 class\n"
          ]
        }
      ]
    },
    {
      "cell_type": "markdown",
      "source": [
        "Question:4"
      ],
      "metadata": {
        "id": "-YgAWmX9_6Qf"
      }
    },
    {
      "cell_type": "code",
      "source": [
        "fl=input(\"The name of the file: \")\n",
        "with open(fl,'r') as f:\n",
        " n=int(input(\"Enter the number of lines to read: \"))\n",
        " c=0\n",
        " for line in f:\n",
        "   if line!=\"\\n\":\n",
        "    c+=1\n",
        " f.seek(0)\n",
        " for i in range(0,c-n):\n",
        "  f.readline()\n",
        " for j in range(c-n,c):\n",
        "  print(f.readline(),end='')"
      ],
      "metadata": {
        "colab": {
          "base_uri": "https://localhost:8080/"
        },
        "id": "TuBJff7J_9ht",
        "outputId": "9bf96a66-897b-4478-abd3-cd839072324f"
      },
      "execution_count": null,
      "outputs": [
        {
          "output_type": "stream",
          "name": "stdout",
          "text": [
            "The name of the file: test.txt\n",
            "Enter the number of lines to read: 2\n",
            "languages such as C++ or Java.\n",
            "Python   supports   multiple   programming   paradigms,   including   object-oriented,   imperative   and functional programming or procedural styles. It features a dynamic type system and automatic memory management and has a large and comprehensive standard library. The best way we learn anything is by practice and exercise questions. We have started this section for those (beginner to intermediate) who are familiar with Python."
          ]
        }
      ]
    },
    {
      "cell_type": "markdown",
      "source": [
        "Question:5"
      ],
      "metadata": {
        "id": "pZwRZ66LjL6-"
      }
    },
    {
      "cell_type": "code",
      "source": [
        ""
      ],
      "metadata": {
        "id": "HXY8bIEUjMX-"
      },
      "execution_count": null,
      "outputs": []
    },
    {
      "cell_type": "markdown",
      "source": [
        "Question:6"
      ],
      "metadata": {
        "id": "OUVRDvHgEEad"
      }
    },
    {
      "cell_type": "code",
      "source": [
        "fl=input(\"The name of the file: \")\n",
        "with open(fl,'r') as f:\n",
        " c=0\n",
        " for line in f:\n",
        "   if line!=\"\\n\":\n",
        "    c+=1\n",
        "print(\"Number of lines in the file are: \",c)"
      ],
      "metadata": {
        "colab": {
          "base_uri": "https://localhost:8080/"
        },
        "id": "zXivm0bJEECn",
        "outputId": "00e07967-d5cd-4759-a513-27b5280c3357"
      },
      "execution_count": null,
      "outputs": [
        {
          "output_type": "stream",
          "name": "stdout",
          "text": [
            "The name of the file: test.txt\n",
            "Number of lines in the file are:  4\n"
          ]
        }
      ]
    },
    {
      "cell_type": "markdown",
      "source": [
        "Question:7"
      ],
      "metadata": {
        "id": "H-mZN6EoOXyV"
      }
    },
    {
      "cell_type": "code",
      "source": [
        "fl=input(\"The name of the file: \")\n",
        "with open(fl,'r') as f:\n",
        " l=[]\n",
        " for line in f:\n",
        "  for w in line.split():\n",
        "   l.append(w)\n",
        "for i in range(0,len(l)):\n",
        " for j in range(i,len(l)):\n",
        "  if l[j]<l[i]:\n",
        "     temp=l[i]\n",
        "     l[i]=l[j]\n",
        "     l[j]=temp\n",
        "print(\"Number of words in the file: ({\")\n",
        "for i in range(0,len(l)):\n",
        " if l.count(l[i])>=1 and l[i-1]!=l[i]:\n",
        "  print(l[i],\":\",l.count(l[i]),end=',')\n",
        "print(\"})\")"
      ],
      "metadata": {
        "colab": {
          "base_uri": "https://localhost:8080/"
        },
        "id": "Lj3ek_mdOagy",
        "outputId": "e23584fb-4f06-4656-e1d2-f34488bc1f77"
      },
      "execution_count": null,
      "outputs": [
        {
          "output_type": "stream",
          "name": "stdout",
          "text": [
            "The name of the file: test.txt\n",
            "Number of words in the file: ({\n",
            "(beginner : 1,C++ : 1,It : 1,Its : 1,Java. : 1,Python : 3,Python. : 1,The : 1,We : 1,What : 1,a : 3,allows : 1,and : 6,anything : 1,are : 1,as : 1,automatic : 1,best : 1,by : 1,code : 2,comprehensive : 1,concepts : 1,design : 1,dynamic : 2,emphasizes : 1,exercise : 1,express : 1,familiar : 1,features : 1,fewer : 1,for : 1,functional : 1,general-purpose, : 1,has : 1,have : 1,high-level, : 1,imperative : 1,in : 2,including : 1,intermediate) : 1,interpreted, : 1,is : 3,its : 1,language. : 1,language? : 1,languages : 1,large : 1,learn : 1,library. : 1,lines : 1,management : 1,memory : 1,multiple : 1,object-oriented, : 1,of : 1,or : 2,paradigms, : 1,philosophy : 1,possible : 1,practice : 1,procedural : 1,programmers : 1,programming : 3,questions. : 1,readability, : 1,section : 1,standard : 1,started : 1,styles. : 1,such : 1,supports : 1,syntax : 1,system : 1,than : 1,this : 1,those : 1,to : 2,type : 1,used : 1,way : 1,we : 1,who : 1,widely : 1,with : 1,})\n"
          ]
        }
      ]
    },
    {
      "cell_type": "markdown",
      "source": [
        "Question:8"
      ],
      "metadata": {
        "id": "P4VZf_Q5TYdT"
      }
    },
    {
      "cell_type": "code",
      "source": [
        "fl=input(\"The name of the file: \")\n",
        "with open(fl,'r') as f:\n",
        "  f.read()\n",
        "  print(\"File size in bytes of the file is: \",f.tell())"
      ],
      "metadata": {
        "id": "wWP_rMw7TaeL",
        "colab": {
          "base_uri": "https://localhost:8080/"
        },
        "outputId": "95988949-9d26-4a86-bc3a-0d330d272f13"
      },
      "execution_count": null,
      "outputs": [
        {
          "output_type": "stream",
          "name": "stdout",
          "text": [
            "The name of the file: test.txt\n",
            "File size in bytes of the file is:  731\n"
          ]
        }
      ]
    },
    {
      "cell_type": "markdown",
      "source": [
        "Question:9"
      ],
      "metadata": {
        "id": "SUFoEpQnX6Yr"
      }
    },
    {
      "cell_type": "code",
      "source": [
        "fl=input(\"The name of the file: \")\n",
        "with open(fl,'a') as f:\n",
        " a=eval(input(\"Enter the list: \"))\n",
        " for w in a:\n",
        "  f.write(\"\\n\")\n",
        "  f.write(w)\n",
        "print(\"File after appending: \")\n",
        "f=open(fl)\n",
        "print(f.read())\n",
        "f.close()"
      ],
      "metadata": {
        "colab": {
          "base_uri": "https://localhost:8080/"
        },
        "id": "jfl1AwL9X8c5",
        "outputId": "06ad5422-fbfc-4c3f-93e3-85b00eb87487"
      },
      "execution_count": null,
      "outputs": [
        {
          "output_type": "stream",
          "name": "stdout",
          "text": [
            "The name of the file: file.txt\n",
            "Enter the list: ['Red', 'Green', 'White', 'Black', 'Pink', 'Yellow']\n",
            "File after appending: \n",
            "Hi\n",
            "Red\n",
            "Green\n",
            "White\n",
            "Black\n",
            "Pink\n",
            "Yellow\n"
          ]
        }
      ]
    },
    {
      "cell_type": "markdown",
      "source": [
        "Question:10"
      ],
      "metadata": {
        "id": "H4h3KfebjA6S"
      }
    },
    {
      "cell_type": "code",
      "source": [
        ""
      ],
      "metadata": {
        "id": "tvZnpIIbjBli"
      },
      "execution_count": null,
      "outputs": []
    },
    {
      "cell_type": "markdown",
      "source": [
        "Question:11"
      ],
      "metadata": {
        "id": "fToA6ESEazkP"
      }
    },
    {
      "cell_type": "code",
      "source": [
        "import random\n",
        "fl=input(\"The name of the file: \")\n",
        "with open(fl,'r') as f:\n",
        " c=0\n",
        " for line in f:\n",
        "   if line!=\"\\n\":\n",
        "    c+=1\n",
        " n=random.randint(1,c)\n",
        " f.seek(0)\n",
        " for i in range(0,c-n):\n",
        "  f.readline()\n",
        " print(f.readline(),end='')"
      ],
      "metadata": {
        "colab": {
          "base_uri": "https://localhost:8080/"
        },
        "id": "abOwTEdWa2XT",
        "outputId": "4f5c3717-d930-4418-90ea-2d69b99e54f7"
      },
      "execution_count": null,
      "outputs": [
        {
          "output_type": "stream",
          "name": "stdout",
          "text": [
            "The name of the file: test.txt\n",
            "Python is a widely used high-level, general-purpose, interpreted, dynamic programming language. Its design philosophy emphasizes code readability, and its syntax allows programmers to express concepts in fewer lines of code than possible in\n"
          ]
        }
      ]
    },
    {
      "cell_type": "markdown",
      "source": [
        "Qestion:12"
      ],
      "metadata": {
        "id": "yx1rdzQ9i8QE"
      }
    },
    {
      "cell_type": "code",
      "source": [
        ""
      ],
      "metadata": {
        "id": "dOozyNHwi7u8"
      },
      "execution_count": null,
      "outputs": []
    },
    {
      "cell_type": "markdown",
      "source": [
        "Question:13"
      ],
      "metadata": {
        "id": "Fq671ZEUfv4L"
      }
    },
    {
      "cell_type": "code",
      "source": [
        "fl=input(\"The name of the file: \")\n",
        "with open(fl,'r') as f:\n",
        " for line in f:\n",
        "  l=[]\n",
        "  for w in line.split():\n",
        "   l.append(w)\n",
        "  print(l)"
      ],
      "metadata": {
        "colab": {
          "base_uri": "https://localhost:8080/"
        },
        "id": "v_P11M6_fy3W",
        "outputId": "9481bd1c-d3a0-4c5e-b564-72f1a31cf36b"
      },
      "execution_count": null,
      "outputs": [
        {
          "output_type": "stream",
          "name": "stdout",
          "text": [
            "The name of the file: test.txt\n",
            "['What', 'is', 'Python', 'language?']\n",
            "['Python', 'is', 'a', 'widely', 'used', 'high-level,', 'general-purpose,', 'interpreted,', 'dynamic', 'programming', 'language.', 'Its', 'design', 'philosophy', 'emphasizes', 'code', 'readability,', 'and', 'its', 'syntax', 'allows', 'programmers', 'to', 'express', 'concepts', 'in', 'fewer', 'lines', 'of', 'code', 'than', 'possible', 'in']\n",
            "['languages', 'such', 'as', 'C++', 'or', 'Java.']\n",
            "['Python', 'supports', 'multiple', 'programming', 'paradigms,', 'including', 'object-oriented,', 'imperative', 'and', 'functional', 'programming', 'or', 'procedural', 'styles.', 'It', 'features', 'a', 'dynamic', 'type', 'system', 'and', 'automatic', 'memory', 'management', 'and', 'has', 'a', 'large', 'and', 'comprehensive', 'standard', 'library.', 'The', 'best', 'way', 'we', 'learn', 'anything', 'is', 'by', 'practice', 'and', 'exercise', 'questions.', 'We', 'have', 'started', 'this', 'section', 'for', 'those', '(beginner', 'to', 'intermediate)', 'who', 'are', 'familiar', 'with', 'Python.']\n"
          ]
        }
      ]
    },
    {
      "cell_type": "markdown",
      "source": [
        "Question:14"
      ],
      "metadata": {
        "id": "-K7EMWKbjOwB"
      }
    },
    {
      "cell_type": "code",
      "source": [
        ""
      ],
      "metadata": {
        "id": "SHA-ldFkjPIZ"
      },
      "execution_count": null,
      "outputs": []
    }
  ]
}